{
 "cells": [
  {
   "cell_type": "code",
   "execution_count": null,
   "metadata": {},
   "outputs": [],
   "source": [
    "# -*- coding: utf-8 -*-\n",
    "import numpy as np\n",
    "import pandas as pd\n",
    "\n",
    "import logging\n",
    "\n",
    "from rankpy.queries import Queries\n",
    "from rankpy.queries import find_constant_features\n",
    "\n",
    "from rankpy.models import LambdaMART"
   ]
  },
  {
   "cell_type": "code",
   "execution_count": null,
   "metadata": {},
   "outputs": [],
   "source": [
    "# Turn on logging.\n",
    "logging.basicConfig(format='%(asctime)s : %(message)s', level=logging.INFO)\n",
    "\n",
    "# Load the query datasets.\n",
    "training_queries = Queries.load_from_text('train.svmlight')\n",
    "validation_queries = Queries.load_from_text('vali.svmlight')\n",
    "test_queries = Queries.load_from_text('test.svmlight')\n",
    "\n",
    "logging.info('================================================================================')\n",
    "\n",
    "# Print basic info about query datasets.\n",
    "logging.info('Train queries: %s' % training_queries)\n",
    "logging.info('Valid queries: %s' % validation_queries)\n",
    "logging.info('Test queries: %s' % test_queries)\n",
    "\n",
    "logging.info('================================================================================')\n",
    "\n",
    "# Set this to True in order to remove queries containing all documents\n",
    "# of the same relevance score -- these are useless for LambdaMART.\n",
    "remove_useless_queries = False\n",
    "\n",
    "# Find constant query-document features.\n",
    "cfs = find_constant_features([training_queries, validation_queries])\n",
    "\n",
    "# Get rid of constant features and (possibly) remove useless queries.\n",
    "training_queries.adjust(remove_features=cfs, purge=remove_useless_queries)\n",
    "validation_queries.adjust(remove_features=cfs, purge=remove_useless_queries)\n",
    "test_queries.adjust(remove_features=cfs)\n",
    "\n",
    "# Print basic info about query datasets.\n",
    "logging.info('Train queries: %s' % training_queries)\n",
    "logging.info('Valid queries: %s' % validation_queries)\n",
    "logging.info('Test queries: %s' % test_queries)\n",
    "\n",
    "logging.info('================================================================================')"
   ]
  },
  {
   "cell_type": "code",
   "execution_count": null,
   "metadata": {},
   "outputs": [],
   "source": [
    "model = LambdaMART(metric='nDCG@38', max_leaf_nodes=7, shrinkage=0.1,\n",
    "                   estopping=10, n_jobs=-1, min_samples_leaf=50,\n",
    "                   random_state=42)\n",
    "\n",
    "model.fit(training_queries, validation_queries=test_queries)\n",
    "\n",
    "logging.info('================================================================================')\n",
    "logging.info('%s on the test queries: %.8f'\n",
    "             % (model.metric, model.evaluate(test_queries, n_jobs=-1)))\n",
    "\n",
    "model.save('LambdaMART_L7_S0.1_E50_' + model.metric)\n",
    "predicted_rankings = model.predict_rankings(test_queries)\n",
    "\n",
    "test_df = pd.read_csv(\"test_set_VU_DM.csv\", header=0, nrows = test_queries.document_count())\n",
    "test_df['pred_position'] = np.concatenate(predicted_rankings)\n",
    "sorted_df = test_df[['srch_id', 'prop_id', 'pred_position']].sort_values(['srch_id', 'pred_position'])"
   ]
  },
  {
   "cell_type": "code",
   "execution_count": null,
   "metadata": {},
   "outputs": [],
   "source": [
    "submission = pd.DataFrame({ 'srch_id': sorted_df.srch_id, 'prop_id': sorted_df.prop_id })[['srch_id', 'prop_id']]\n",
    "submission.to_csv('model_%d2_%f.csv' % (test_queries.document_count(), model.evaluate(test_queries, n_jobs=-1)), index=False)"
   ]
  }
 ],
 "metadata": {
  "kernelspec": {
   "display_name": "Python 3",
   "language": "python",
   "name": "python3"
  },
  "language_info": {
   "codemirror_mode": {
    "name": "ipython",
    "version": 3
   },
   "file_extension": ".py",
   "mimetype": "text/x-python",
   "name": "python",
   "nbconvert_exporter": "python",
   "pygments_lexer": "ipython3",
   "version": "3.7.3"
  }
 },
 "nbformat": 4,
 "nbformat_minor": 2
}
