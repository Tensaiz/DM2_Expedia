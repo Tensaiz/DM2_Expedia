{
 "cells": [
  {
   "cell_type": "code",
   "execution_count": 7,
   "metadata": {},
   "outputs": [],
   "source": [
    "import xgboost as xgb\n",
    "import numpy as np\n",
    "import matplotlib.pyplot as plt\n",
    "from xgboostextension import XGBRanker \n",
    "from xgboost import XGBModel\n",
    "import pandas as pd\n",
    "from sklearn.metrics import confusion_matrix\n",
    "import matplotlib.pyplot as plt\n",
    "from math import isnan"
   ]
  },
  {
   "cell_type": "code",
   "execution_count": 8,
   "metadata": {},
   "outputs": [],
   "source": [
    "FILE = 'training_set_VU_DM.csv'"
   ]
  },
  {
   "cell_type": "code",
   "execution_count": 9,
   "metadata": {},
   "outputs": [
    {
     "name": "stderr",
     "output_type": "stream",
     "text": [
      "c:\\users\\admin\\appdata\\local\\programs\\python\\python37\\lib\\site-packages\\ipykernel_launcher.py:8: RuntimeWarning: All-NaN axis encountered\n",
      "  \n"
     ]
    },
    {
     "ename": "NameError",
     "evalue": "name 'i' is not defined",
     "output_type": "error",
     "traceback": [
      "\u001b[1;31m---------------------------------------------------------------------------\u001b[0m",
      "\u001b[1;31mNameError\u001b[0m                                 Traceback (most recent call last)",
      "\u001b[1;32m<ipython-input-9-7b8488a542be>\u001b[0m in \u001b[0;36m<module>\u001b[1;34m\u001b[0m\n\u001b[0;32m     39\u001b[0m \u001b[1;33m\u001b[0m\u001b[0m\n\u001b[0;32m     40\u001b[0m \u001b[1;31m# save cleaned csv\u001b[0m\u001b[1;33m\u001b[0m\u001b[1;33m\u001b[0m\u001b[1;33m\u001b[0m\u001b[0m\n\u001b[1;32m---> 41\u001b[1;33m \u001b[0mdata\u001b[0m\u001b[1;33m.\u001b[0m\u001b[0mto_csv\u001b[0m\u001b[1;33m(\u001b[0m\u001b[1;34m'train_data_cleaned.csv'\u001b[0m\u001b[1;33m.\u001b[0m\u001b[0mformat\u001b[0m\u001b[1;33m(\u001b[0m\u001b[0mi\u001b[0m\u001b[1;33m)\u001b[0m\u001b[1;33m)\u001b[0m\u001b[1;33m\u001b[0m\u001b[1;33m\u001b[0m\u001b[0m\n\u001b[0m",
      "\u001b[1;31mNameError\u001b[0m: name 'i' is not defined"
     ]
    }
   ],
   "source": [
    "comp_attributes = ['comp{}_rate'.format(i) for i in range(1, 9)] + ['comp{}_inv'.format(i) for i in range(1, 9)]\n",
    "comp_percent_diffs = ['comp{}_rate_percent_diff'.format(i) for i in range(1, 9)]\n",
    "\n",
    "# load data set\n",
    "data = pd.read_csv(FILE)\n",
    "\n",
    "# Summarise competitor attributes and drop them\n",
    "data['competitors'] = np.nanmin(data[comp_attributes], axis=1)\n",
    "data['competitors'] = data['competitors'].fillna(0)\n",
    "data.drop(comp_attributes+comp_percent_diffs, axis=1, inplace=True)\n",
    "\n",
    "# Adjust affinity score attribute\n",
    "data['srch_query_affinity_score'] = np.exp(data['srch_query_affinity_score']).fillna(0)\n",
    "\n",
    "# Add column 'prop_reviewed'\n",
    "data['prop_reviewed'] = True\n",
    "data['prop_reviewed'].loc[(data['prop_review_score'] == 0)] = False\n",
    "data['prop_reviewed'].loc[(data['prop_review_score'].isnull())] = False\n",
    "\n",
    "# now to iterate over every search ID and fill in more missing data\n",
    "s_ids = data['srch_id'].unique()\n",
    "\n",
    "for s_id in s_ids:\n",
    "    # get block of each search\n",
    "    search = data.loc[data['srch_id'] == s_id]\n",
    "    s_idx = search.index\n",
    "\n",
    "    # clean up prop_location_score2\n",
    "    avg_pls2 = search['prop_location_score2'].mean()\n",
    "\n",
    "    if np.isnan(avg_pls2):\n",
    "        avg_pls2 = 0.5\n",
    "\n",
    "    data.loc[s_idx, 'prop_location_score2'] = data.loc[s_idx, 'prop_location_score2'].fillna(avg_pls2)\n",
    "\n",
    "# finally, drop unused columns\n",
    "data.drop(columns=['gross_bookings_usd'], inplace=True)"
   ]
  },
  {
   "cell_type": "code",
   "execution_count": 10,
   "metadata": {},
   "outputs": [],
   "source": [
    "# save cleaned csv\n",
    "data.to_csv('train_data_cleaned.csv')"
   ]
  },
  {
   "cell_type": "code",
   "execution_count": null,
   "metadata": {},
   "outputs": [
    {
     "name": "stdout",
     "output_type": "stream",
     "text": [
      "--- Starting Data Cleanup ---\n",
      "Loading Full Dataset...\n",
      "Loaded\n",
      "Dest_id 19446 has no distance data at all!\n",
      "Dest_id 21333 has no distance data at all!\n",
      "Dest_id 21333 has no distance data at all!\n",
      "Dest_id 19446 has no distance data at all!\n",
      "Dest_id 15429 has no distance data at all!\n",
      "Dest_id 837 has no distance data at all!\n",
      "Dest_id 21333 has no distance data at all!\n",
      "Dest_id 837 has no distance data at all!\n"
     ]
    }
   ],
   "source": [
    "print('--- Starting Data Cleanup ---')\n",
    "\n",
    "print('Loading Full Dataset...')\n",
    "data_full = pd.read_csv(FILE)\n",
    "print('Loaded')\n",
    "\n",
    "# clean up orig_destination_distance attribute\n",
    "data['avg_orig_dist'] = 0\n",
    "data['std_orig_dist'] = 0\n",
    "\n",
    "s_ids = data['srch_id'].unique()\n",
    "for j, s_id in enumerate(s_ids):\n",
    "    #print('Search ID {}  |  {}/{}'.format(s_id, j, len(s_ids)))\n",
    "    # get block of each search\n",
    "    search = data.loc[data['srch_id'] == s_id]\n",
    "    s_idx = search.index\n",
    "\n",
    "    # fill in missing values for orig_destination_distance\n",
    "    num_nulls = search['orig_destination_distance'].isnull().values.sum()\n",
    "    if num_nulls == len(search):\n",
    "        # look for similar trips\n",
    "        origin = search['visitor_location_country_id'].iloc[0]\n",
    "        dest_id = search['srch_destination_id'].iloc[0]\n",
    "        prop_country = search['prop_country_id'].iloc[0]\n",
    "\n",
    "        same_trip = data_full.loc[\n",
    "            (data_full['visitor_location_country_id'] == origin) & ((data_full['srch_destination_id'] == dest_id) | (data_full['prop_country_id'])) == prop_country]\n",
    "\n",
    "        avg_odd = same_trip['orig_destination_distance'].mean()\n",
    "\n",
    "        # can still be nan, just use average distance to this booking...\n",
    "        if isnan(avg_odd):\n",
    "            same_trip = data_full.loc[data_full['srch_destination_id'] == dest_id]\n",
    "            avg_odd = same_trip['orig_destination_distance'].mean()\n",
    "            std_odd = same_trip['orig_destination_distance'].std()\n",
    "            if isnan(avg_odd):\n",
    "                same_trip = data_full.loc[data_full['prop_country_id'] == prop_country]\n",
    "                avg_odd = same_trip['orig_destination_distance'].mean()\n",
    "                std_odd = same_trip['orig_destination_distance'].std()\n",
    "                if isnan(avg_odd):\n",
    "                    print('Dest_id {} has no distance data at all!'.format(dest_id))\n",
    "        else:\n",
    "            std_odd = same_trip['orig_destination_distance'].std()\n",
    "    else:\n",
    "        avg_odd = search['orig_destination_distance'].mean()\n",
    "        std_odd = search['orig_destination_distance'].std()\n",
    "\n",
    "    data.loc[s_idx, 'avg_orig_dest_dist'] = avg_odd\n",
    "    data.loc[s_idx, 'std_orig_dest_dist'] = std_odd\n",
    "\n",
    "data.drop(columns=['orig_destination_distance'], inplace=True)\n",
    "data.to_csv('training_final_clean.csv')\n",
    "\n",
    "print('Saved')"
   ]
  },
  {
   "cell_type": "code",
   "execution_count": null,
   "metadata": {},
   "outputs": [],
   "source": [
    "DTYPES = {\n",
    "    'srch_id'                    : np.int32,\n",
    "    'visitor_location_country_id': np.int32,\n",
    "    'visitor_hist_starrating'    : np.float32,\n",
    "    'visitor_hist_adr_usd'       : np.float32,\n",
    "    'prop_country_id'            : np.int32,\n",
    "    'prop_id'                    : np.int32,\n",
    "    'prop_starrating'            : np.float32,\n",
    "    'prop_review_score'          : np.float32,\n",
    "    'prop_brand_bool'            : np.bool,\n",
    "    'prop_location_score1'       : np.float32,\n",
    "    'prop_location_score2'       : np.float32,\n",
    "    'prop_log_historical_price'  : np.float32,\n",
    "    'position'                   : np.int32,\n",
    "    'price_usd'                  : np.float32,\n",
    "    'promotion_flag'             : np.bool,\n",
    "    'srch_destination_id'        : np.int32,\n",
    "    'srch_length_of_stay'        : np.float32,\n",
    "    'srch_booking_window'        : np.float32,\n",
    "    'srch_adults_count'          : np.float32,\n",
    "    'srch_children_count'        : np.float32,\n",
    "    'srch_room_count'            : np.float32,\n",
    "    'srch_saturday_night_bool'   : np.bool,\n",
    "    'srch_query_affinity_score'  : np.float32,\n",
    "    'random_bool'                : np.bool,\n",
    "    'click_bool'                 : np.bool,\n",
    "    'booking_bool'               : np.bool,\n",
    "    'competitors'                : np.float32,\n",
    "    'prop_reviewed'              : np.bool,\n",
    "    'avg_orig_dest_dist'         : np.float32,\n",
    "    'std_orig_dest_dist'         : np.float32,\n",
    "    'domestic_travel'            : np.bool,\n",
    "}\n",
    "\n",
    "FILE = 'training_final_clean.csv'\n",
    "\n",
    "data = pd.read_csv(FILE, index_col=0, dtype=DTYPES)"
   ]
  }
 ],
 "metadata": {
  "kernelspec": {
   "display_name": "Python 3",
   "language": "python",
   "name": "python3"
  },
  "language_info": {
   "codemirror_mode": {
    "name": "ipython",
    "version": 3
   },
   "file_extension": ".py",
   "mimetype": "text/x-python",
   "name": "python",
   "nbconvert_exporter": "python",
   "pygments_lexer": "ipython3",
   "version": "3.7.3"
  }
 },
 "nbformat": 4,
 "nbformat_minor": 2
}
